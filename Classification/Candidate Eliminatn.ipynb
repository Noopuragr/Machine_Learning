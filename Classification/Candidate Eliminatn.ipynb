{
 "cells": [
  {
   "cell_type": "code",
   "execution_count": 2,
   "metadata": {},
   "outputs": [
    {
     "name": "stdout",
     "output_type": "stream",
     "text": [
      "Candidate elimination algorithm\n",
      "most specific ['Sunny', 'Warm', '?', 'Strong', '?', '?']\n",
      "Most general : [['Sunny', '?', '?', '?', '?', '?'], ['?', 'Warm', '?', '?', '?', '?']]\n"
     ]
    }
   ],
   "source": [
    "print(\"Candidate elimination algorithm\")\n",
    "\n",
    "\n",
    "s=['0']*6\n",
    "g=['?']*6\n",
    "d = (['Sunny','Warm','Normal','Strong','Warm','Same','yes'],['Sunny','Warm','High','Strong','Warm','Same','yes'],\n",
    "['Rainy','Cool','High','Strong','Warm','Change','no'],\n",
    "['Sunny','Warm','High','Strong','Cool','Change','yes'])\n",
    "\n",
    "for i in range(0,len(d)):\n",
    "    if d[i][-1]==\"no\":\n",
    "        for k in range(0,6):\n",
    "            if d[i][k]=='Rainy':\n",
    "                g[k]=['Sunny','?','?','?','?','?']\n",
    "            elif d[i][k]==\"Cool\":\n",
    "                g[k]=['?','Warm','?','?','?','?']\n",
    "            elif d[i][k]==\"High\":\n",
    "                g[k]=['?','?','Low','?','?','?']\n",
    "            elif d[i][k]==\"Strong\":\n",
    "                g[k]=['?','?','?','Strong','?','?']\n",
    "            elif d[i][k]==\"Warm\":\n",
    "                g[k]=['?','?','?','?','Cool','?']\n",
    "            elif d[i][k]==\"Change\":\n",
    "                g[k]=['?','?','?','?','?','Change']\n",
    "    elif d[i][-1]==\"yes\":\n",
    "        for j in range(0,6):\n",
    "            if s[j]=='0':\n",
    "                s[j]=d[i][j]\n",
    "            elif s[j]!=d[i][j]:\n",
    "                s[j]='?'\n",
    "print(\"most specific\",s)\n",
    "#print(g)\n",
    "f=[]\n",
    "for i in range (0,5):\n",
    "    for j in range (0,6):\n",
    "        if i == j :\n",
    "            if(s[i] == g[i][j] and g[i] not in f):\n",
    "                f.append(g[i])\n",
    "            else:\n",
    "                continue\n",
    "        else:\n",
    "            continue\n",
    "print(\"Most general :\",f[:len(f)-1])\n"
   ]
  },
  {
   "cell_type": "code",
   "execution_count": null,
   "metadata": {},
   "outputs": [],
   "source": []
  }
 ],
 "metadata": {
  "kernelspec": {
   "display_name": "Python 3",
   "language": "python",
   "name": "python3"
  },
  "language_info": {
   "codemirror_mode": {
    "name": "ipython",
    "version": 3
   },
   "file_extension": ".py",
   "mimetype": "text/x-python",
   "name": "python",
   "nbconvert_exporter": "python",
   "pygments_lexer": "ipython3",
   "version": "3.7.0"
  }
 },
 "nbformat": 4,
 "nbformat_minor": 2
}
