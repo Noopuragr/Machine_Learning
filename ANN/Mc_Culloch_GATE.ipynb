{
 "cells": [
  {
   "cell_type": "code",
   "execution_count": 1,
   "metadata": {},
   "outputs": [
    {
     "name": "stdout",
     "output_type": "stream",
     "text": [
      "The output of 0 and 0 for AND gate is 0\n",
      "The output of 0 and 1 for AND gate is 0\n",
      "The output of 1 and 0 for AND gate is 0\n",
      "The output of 1 and 1 for AND gate is 1\n"
     ]
    }
   ],
   "source": [
    "import pandas as pd\n",
    "import numpy as np\n",
    "\n",
    "def activation_function_and(yin):\n",
    "    if yin > 1:\n",
    "        return 1    \n",
    "    else:\n",
    "        return 0\n",
    "\n",
    "X1 = [0,0,1,1]\n",
    "X2 = [0,1,0,1]\n",
    "w1 = 1\n",
    "w2 = 1\n",
    "result = []\n",
    "sum1 = []\n",
    "\n",
    "for i,j in zip(X1,X2):\n",
    "    yin = w1*i + w2*j\n",
    "    sum1.append(yin)\n",
    "    result.append(activation_function_and(yin))\n",
    "    print(\"The output of {} and {} for AND gate is\".format(i,j),activation_function_and(yin))"
   ]
  },
  {
   "cell_type": "code",
   "execution_count": 5,
   "metadata": {},
   "outputs": [
    {
     "name": "stdout",
     "output_type": "stream",
     "text": [
      "The output for a given input 0 and 0 using NOT Gate: 1\n",
      "The output for a given input 0 and 1 using NOT Gate: 0\n",
      "The output for a given input 1 and 0 using NOT Gate: 0\n",
      "The output for a given input 1 and 1 using NOT Gate: 0\n"
     ]
    }
   ],
   "source": [
    "def input_function(i1,i2,w1,w2):\n",
    "    y=i1*w1+i2*w2\n",
    "    return y\n",
    "def activation_function(y):\n",
    "    if y>=1:\n",
    "        return 0\n",
    "    else:\n",
    "        return 1\n",
    "i1=[0,0,1,1]\n",
    "i2=[0,1,0,1]\n",
    "w1 = 1\n",
    "w2 = 1\n",
    "for i,j in zip(i1,i2):\n",
    "    y=input_function(i,j,w1,w2)\n",
    "    print('The output for a given input {} and {} using NOT Gate:'.format(i,j),activation_function(y))"
   ]
  },
  {
   "cell_type": "code",
   "execution_count": 6,
   "metadata": {},
   "outputs": [
    {
     "name": "stdout",
     "output_type": "stream",
     "text": [
      "The output for a given input 0 and 0 using OR Gate: 0\n",
      "The output for a given input 0 and 1 using OR Gate: 1\n",
      "The output for a given input 1 and 0 using OR Gate: 1\n",
      "The output for a given input 1 and 1 using OR Gate: 1\n"
     ]
    }
   ],
   "source": [
    "def input_function(i1,i2,w1,w2):\n",
    "    y=i1*w1+i2*w2\n",
    "    return y\n",
    "def Activation_Function(y):\n",
    "    result=y\n",
    "    if y<1:\n",
    "        return 0\n",
    "    elif y>=1:\n",
    "        return 1\n",
    "i1=[0,0,1,1]\n",
    "i2=[0,1,0,1]\n",
    "w1=1\n",
    "w2=1\n",
    "for i,j in zip(i1,i2):\n",
    "    y=input_function(i,j,w1,w2)\n",
    "    print('The output for a given input {} and {} using OR Gate:'.format(i,j),Activation_Function(y))"
   ]
  },
  {
   "cell_type": "code",
   "execution_count": 9,
   "metadata": {},
   "outputs": [
    {
     "name": "stdout",
     "output_type": "stream",
     "text": [
      "The output for 0 and 0 for XOR gate is 0\n",
      "The output for 0 and 1 for XOR gate is 1\n",
      "The output for 1 and 0 for XOR gate is 1\n",
      "The output for 0 and 0 for XOR gate is 0\n"
     ]
    }
   ],
   "source": [
    "import pandas as pd\n",
    "import numpy as np\n",
    "\n",
    "def activation_function1(yin1):\n",
    "    if yin1 >= 1:\n",
    "        return 1    \n",
    "    else:\n",
    "        return 0\n",
    "\n",
    "X1 = [0,0,1,1]\n",
    "X2 = [0,1,0,1]\n",
    "w1 = 1\n",
    "w2 = -1\n",
    "result1 = []\n",
    "result2 = []\n",
    "result=[]\n",
    "summ = []\n",
    "\n",
    "for i,j in zip(X1,X2):\n",
    "    zin1 = w1*i + w2*j\n",
    "    result1.append(activation_function1(zin1))\n",
    "    \n",
    "\n",
    "for i,j in zip(X1,X2):\n",
    "    zin2 = w2*i + w1*j\n",
    "    result2.append(activation_function1(zin2))\n",
    "\n",
    "for i,j in zip(result1,result2):\n",
    "    yin = i + j\n",
    "    result.append(activation_function1(yin))\n",
    "    print(\"The output for {} and {} for XOR gate is\".format(i,j),activation_function1(yin))"
   ]
  },
  {
   "cell_type": "code",
   "execution_count": null,
   "metadata": {},
   "outputs": [],
   "source": []
  }
 ],
 "metadata": {
  "kernelspec": {
   "display_name": "Python 3",
   "language": "python",
   "name": "python3"
  },
  "language_info": {
   "codemirror_mode": {
    "name": "ipython",
    "version": 3
   },
   "file_extension": ".py",
   "mimetype": "text/x-python",
   "name": "python",
   "nbconvert_exporter": "python",
   "pygments_lexer": "ipython3",
   "version": "3.7.0"
  }
 },
 "nbformat": 4,
 "nbformat_minor": 2
}
