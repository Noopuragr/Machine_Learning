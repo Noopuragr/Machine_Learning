{
 "cells": [
  {
   "cell_type": "code",
   "execution_count": 1,
   "metadata": {},
   "outputs": [
    {
     "name": "stdout",
     "output_type": "stream",
     "text": [
      "Input:  [1, 1]\n",
      "Weights [1, 1]\n",
      "Bias 1\n",
      "Output 1\n",
      "\n",
      "\n",
      "Input:  [-1, 1]\n",
      "Weights [2, 0]\n",
      "Bias 0\n",
      "Output -1\n",
      "\n",
      "\n",
      "Input:  [1, -1]\n",
      "Weights [1, 1]\n",
      "Bias -1\n",
      "Output -1\n",
      "\n",
      "\n",
      "Input:  [-1, -1]\n",
      "Weights [1, 1]\n",
      "Bias -1\n",
      "Output -1\n",
      "\n",
      "\n"
     ]
    }
   ],
   "source": [
    "x=[[1,1],[-1,1],[1,-1],[-1,-1]] #inputs x1 and x2\n",
    "t=[1,-1,-1,-1]  #targets of AND given inputs\n",
    "\n",
    "w=[0,0]  #initialize weights and bias\n",
    "b=0\n",
    "alpha=1\n",
    "\n",
    "def responseOutput(xi): #calculate yin and y\n",
    "    yin=b+xi[0]*w[0]+xi[1]*w[1]\n",
    "    return -1 if yin<=0 else 1\n",
    "\n",
    "def model():\n",
    "    global b,w,x,t,alpha\n",
    "    for i in range(len(x)):\n",
    "        print(\"Input: \",x[i])\n",
    "        \n",
    "        while responseOutput(x[i])!=t[i]:\n",
    "            #update weights\n",
    "            w[0]=w[0]+alpha*t[i]*x[i][0]\n",
    "            w[1]=w[1]+alpha*t[i]*x[i][1]\n",
    "            b=b+alpha*t[i]\n",
    "        print(\"Weights\",w)\n",
    "        print(\"Bias\",b)\n",
    "        print(\"Output\",t[i])\n",
    "        print(\"\\n\")\n",
    "\n",
    "\n",
    "\n",
    "model()"
   ]
  },
  {
   "cell_type": "code",
   "execution_count": null,
   "metadata": {},
   "outputs": [],
   "source": []
  }
 ],
 "metadata": {
  "kernelspec": {
   "display_name": "Python 3",
   "language": "python",
   "name": "python3"
  },
  "language_info": {
   "codemirror_mode": {
    "name": "ipython",
    "version": 3
   },
   "file_extension": ".py",
   "mimetype": "text/x-python",
   "name": "python",
   "nbconvert_exporter": "python",
   "pygments_lexer": "ipython3",
   "version": "3.7.0"
  }
 },
 "nbformat": 4,
 "nbformat_minor": 2
}
